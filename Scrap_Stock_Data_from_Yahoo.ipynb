{
  "nbformat": 4,
  "nbformat_minor": 0,
  "metadata": {
    "colab": {
      "name": "Scrap Stock Data from Yahoo.ipynb",
      "provenance": []
    },
    "kernelspec": {
      "name": "python3",
      "display_name": "Python 3"
    }
  },
  "cells": [
    {
      "cell_type": "markdown",
      "metadata": {
        "id": "h5c_ykdygzgS",
        "colab_type": "text"
      },
      "source": [
        "#SCRAP HISTORICAL DATA\n"
      ]
    },
    {
      "cell_type": "code",
      "metadata": {
        "id": "TdynCATQgCvj",
        "colab_type": "code",
        "colab": {}
      },
      "source": [
        "from datetime import datetime\n",
        "from datetime import date\n",
        "from bs4 import BeautifulSoup\n",
        "\n",
        "from dateutil.relativedelta import relativedelta \n",
        "import requests\n",
        "import time\n",
        "import re\n",
        "\n",
        "import numpy as np\n",
        "import pandas as pd\n",
        "\n",
        "import seaborn as sns\n",
        "import matplotlib.pyplot as plt\n",
        "import matplotlib.animation as animation\n",
        "from matplotlib import style\n",
        "%matplotlib notebook"
      ],
      "execution_count": 109,
      "outputs": []
    },
    {
      "cell_type": "code",
      "metadata": {
        "id": "X8T50pJRf3FS",
        "colab_type": "code",
        "colab": {}
      },
      "source": [
        "def get_data(start_month, start_year, end_month, end_year, symbol, get_dividend = False):\n",
        "  t = datetime(1970, 1, 1)\n",
        "  tstart = datetime(start_year, start_month, 1)\n",
        "  tend = datetime(end_year, end_month+1, 1)\n",
        "\n",
        "  #num_days = (tend-tstart).days\n",
        "\n",
        "  num_months = (tend.year - tstart.year) * 12 + (tend.month - tstart.month)\n",
        "\n",
        "  A = []\n",
        "  B = []\n",
        "  C = []\n",
        "\n",
        "  for month in range(num_months):\n",
        "    tmonth = (tstart + relativedelta(months= +1))\n",
        "    tickstart = (tstart - t).total_seconds()\n",
        "    tickend = (tmonth - t).total_seconds()\n",
        "\n",
        "    url = \"https://finance.yahoo.com/quote/\"+symbol+\"/history?period1=\"+str(int(tickstart))+\"&period2=\"+str(int(tickend))+\"&interval=1d&filter=history&frequency=1d\"\n",
        "\n",
        "    response =  requests.get(url)\n",
        "    soup = BeautifulSoup(response.text, 'lxml')\n",
        "    price = soup.find_all('tr', {\"C($tertiaryColor) Fz(xs) Ta(end)\"})[0]\n",
        "    iter = 0\n",
        "    for i in range(len(soup.find_all('td'))):\n",
        "      \n",
        "      price = soup.find_all('td')[i].text\n",
        "\n",
        "      if \"*Close price adjusted for splits.**Adjusted close price adjusted for both dividends and splits.\" in price:\n",
        "        break\n",
        "      \n",
        "      A.append(price)\n",
        "\n",
        "      if \"Dividend\" not in price:\n",
        "        if iter%7 == 6:\n",
        "          B.append(A)\n",
        "          A = []\n",
        "        iter = iter+1\n",
        "\n",
        "      if \"Dividend\" in price:\n",
        "        C.append(A)\n",
        "        A = []\n",
        "        iter = iter+6\n",
        "\n",
        "    tstart = tmonth\n",
        "\n",
        "  Dividend = pd.DataFrame(C , columns=['Date', 'Dividend'])\n",
        "  Dividend['Date'] = pd.to_datetime(Dividend['Date'])\n",
        "  Dividend.sort_values(by=['Date'], inplace=True, ascending=True)\n",
        "  Dividend.set_index('Date', inplace = True)\n",
        "\n",
        "  df = pd.DataFrame(B, columns=['Date', 'Open', 'High', 'Low', 'Close', 'Adj Close', 'Volume'])\n",
        "  df['Date']=pd.to_datetime(df['Date'])\n",
        "  df.sort_values(by=['Date'], inplace=True, ascending=True)\n",
        "  df.set_index('Date', inplace = True)\n",
        "\n",
        "  for data in [df]:\n",
        "    for col in data.columns:\n",
        "      data[col] = data[col].apply(lambda x: re.sub(r'[^0-9.]+','',x))\n",
        "\n",
        "  if get_dividend == True:\n",
        "    return df, Dividend\n",
        "  else:\n",
        "    return df\n",
        "  \n"
      ],
      "execution_count": 115,
      "outputs": []
    },
    {
      "cell_type": "code",
      "metadata": {
        "id": "kntyTafCgHlz",
        "colab_type": "code",
        "colab": {}
      },
      "source": [
        "START_MONTH = 1        #1-12\n",
        "START_YEAR = 2018      #yyyy\n",
        "\n",
        "END_MONTH = 6\n",
        "END_YEAR = 2020\n",
        "\n",
        "SYMBOL = 'INRJPY=X'\n",
        "\n",
        "stock_data= get_data(start_month = START_MONTH, start_year = START_YEAR, end_month = END_MONTH, end_year = END_YEAR, symbol = SYMBOL)"
      ],
      "execution_count": 119,
      "outputs": []
    },
    {
      "cell_type": "code",
      "metadata": {
        "id": "h8LmaNhT-JPs",
        "colab_type": "code",
        "colab": {}
      },
      "source": [
        "stock_data"
      ],
      "execution_count": null,
      "outputs": []
    },
    {
      "cell_type": "markdown",
      "metadata": {
        "id": "U2yD7M2yrI8K",
        "colab_type": "text"
      },
      "source": [
        "#Scrap Every second Data"
      ]
    },
    {
      "cell_type": "code",
      "metadata": {
        "id": "VlkASUadgTgQ",
        "colab_type": "code",
        "colab": {}
      },
      "source": [
        "def get_minute_price(time_interval_sec, symbol):\n",
        "  price_graph = []\n",
        "  start_time = time.time()\n",
        "  while True:\n",
        "    url = 'https://finance.yahoo.com/quote/'+symbol\n",
        "    response =  requests.get(url)\n",
        "    soup = BeautifulSoup(response.text, 'lxml')\n",
        "    price = soup.find_all('div', {'class': 'My(6px) Pos(r) smartphone_Mt(6px)'})[0].find('span', {'class' : 'Trsdu(0.3s) Trsdu(0.3s) Fw(b) Fz(36px) Mb(-4px) D(b)'}).text\n",
        "    price_graph.append(price)\n",
        "\n",
        "    with open('MyFile.txt', 'a+') as file:\n",
        "      file.write(price)\n",
        "      file.write('\\n')\n",
        "\n",
        "    time.sleep(time_interval_sec - ((time.time() - start_time) % time_interval_sec))\n",
        "    present_time = time.time()\n",
        "    print (price)\n",
        "  file.close() "
      ],
      "execution_count": null,
      "outputs": []
    },
    {
      "cell_type": "code",
      "metadata": {
        "id": "E0zKXm2UkvLZ",
        "colab_type": "code",
        "colab": {}
      },
      "source": [
        "get_minute_price(time_interval_sec = 1, symbol = \"^NSEI\")"
      ],
      "execution_count": null,
      "outputs": []
    },
    {
      "cell_type": "markdown",
      "metadata": {
        "id": "OBX8kNnprXKp",
        "colab_type": "text"
      },
      "source": [
        "##Plot Animator if required"
      ]
    }
  ]
}